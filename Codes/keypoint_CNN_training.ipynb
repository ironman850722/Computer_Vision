{
 "cells": [
  {
   "cell_type": "markdown",
   "metadata": {},
   "source": [
    "# Keypoint(Patch) Description\n",
    "<a id='top_cell'></a>  \n",
    "This project will be all about defining and training a convolutional neural network to perform keypoint  description. \n",
    "PyTorch tutorials are available at here: [pytorch tutorials](https://github.com/yunjey/pytorch-tutorial)\n",
    "\n",
    "Today we will go through:\n",
    "### 1. [Load and visualize the data](#load_data_cell)\n",
    "### 2. [Build an example deep network](#build_network_cell)\n",
    "### 3. [Train the deep network](#train_network_cell)\n",
    "### 4. [Generate deep features](#generate_deep_features_cell)\n",
    "\n",
    "***\n",
    "\n",
    "We will use below dataset in this project:\n",
    "###  [The Photo Tourism dataset ](http://phototour.cs.washington.edu/patches/default.htm)\n",
    "\n",
    "It is also available in PyTorch torchvision datasets: [pytorch version](https://pytorch.org/docs/stable/_modules/torchvision/datasets/phototour.html#PhotoTour)\n",
    "\n",
    "This dataset consists of 1024 x 1024 bitmap (.bmp) images, each containing a 16 x 16 array of image patches. Here are some examples:\n",
    "\n",
    "<table><tr><td><img src='images/patches0001.bmp' width=68% ></td><td><img src='images/patches1482.bmp' width=68%></td></tr></table>    \n",
    "For details of how the scale and orientation is established, please see the paper:  \n",
    "<p class=\"style8\"><font size=\"2\">S. Winder and M. Brown. <strong>Learning Local Image \n",
    "\t\t\t\tDescriptors</strong>. To appear <i>International Conference on \n",
    "\t\t\t\tComputer Vision and Pattern Recognition (CVPR2007)</i> (</font><a href=\"http://research.microsoft.com/~swinder/papers/winder_brown_cvpr07.pdf\"><span class=\"style9\">pdf \n",
    "\t\t\t\t300Kb</span></a><font size=\"2\">)</font></p>\n",
    "\n",
    "\n",
    "\n",
    "---"
   ]
  },
  {
   "cell_type": "markdown",
   "metadata": {},
   "source": [
    "### Import packages"
   ]
  },
  {
   "cell_type": "code",
   "execution_count": 1,
   "metadata": {},
   "outputs": [],
   "source": [
    "from __future__ import division, print_function\n",
    "import glob\n",
    "import os\n",
    "import warnings\n",
    "warnings.simplefilter(\"ignore\")\n",
    "import cv2\n",
    "import PIL\n",
    "import random\n",
    "import numpy as np\n",
    "import pandas as pd\n",
    "import matplotlib.pyplot as plt\n",
    "import matplotlib.image as mpimg\n",
    "import torch\n",
    "import torch.nn.init\n",
    "import torch.nn as nn\n",
    "import torch.optim as optim\n",
    "import torch.backends.cudnn as cudnn\n",
    "import torch.nn.functional as F\n",
    "import torchvision.datasets as dset\n",
    "import torchvision.transforms as transforms\n",
    "from tqdm import tqdm\n",
    "from torch.autograd import Variable\n",
    "from copy import deepcopy, copy\n",
    "from config_profile import args\n",
    "from Utils import cv2_scale36, cv2_scale, np_reshape, np_reshape64\n",
    "from Utils import L2Norm, cv2_scale, np_reshape"
   ]
  },
  {
   "cell_type": "markdown",
   "metadata": {},
   "source": [
    "### Check GPU availability, using nvidia-smi "
   ]
  },
  {
   "cell_type": "code",
   "execution_count": 2,
   "metadata": {},
   "outputs": [
    {
     "name": "stdout",
     "output_type": "stream",
     "text": [
      "1.8.1+cu101\n",
      "10.1\n",
      "True\n"
     ]
    }
   ],
   "source": [
    "# Since there are two GPUs on each pelican server, you can either select it as 0 or 1\n",
    "os.environ[\"CUDA_VISIBLE_DEVICES\"] = \"1\"\n",
    "\n",
    "print(torch.__version__)\n",
    "print(torch.version.cuda)  \n",
    "print(torch.cuda.is_available())"
   ]
  },
  {
   "cell_type": "markdown",
   "metadata": {},
   "source": [
    "---\n",
    "---\n",
    "<a id='load_data_cell'></a>\n",
    "## Load and visualize the data\n",
    "\n",
    "In this section, we will \n",
    "#### 1. [Define a PyTorch dataset](#pytorch_dataset_cell)\n",
    "#### 2. [Define a PyTorch dataloader](#pytorch_dataloader_cell)\n",
    "#### 3. [Load data](#load_dataset_cell)\n",
    "#### 4. [Visualizaiton of the Training and Testing Data](#visualize_dataset_cell)\n",
    "\n",
    "[BackToTop](#top_cell)\n",
    "\n",
    "---"
   ]
  },
  {
   "cell_type": "markdown",
   "metadata": {},
   "source": [
    "<a id='pytorch_dataset_cell'></a>\n",
    "### Define PyTorch dataset\n",
    "\n",
    "[BackToSection](#load_data_cell)"
   ]
  },
  {
   "cell_type": "code",
   "execution_count": 3,
   "metadata": {},
   "outputs": [],
   "source": [
    "class TripletPhotoTour(dset.PhotoTour):\n",
    "    \"\"\"\n",
    "    From the PhotoTour Dataset it generates triplet samples\n",
    "    note: a triplet is composed by a pair of matching images and one of\n",
    "    different class.\n",
    "    \"\"\"\n",
    "    def __init__(self, train=True, transform=None, batch_size = None,load_random_triplets = False,  *arg, **kw):\n",
    "        super(TripletPhotoTour, self).__init__(*arg, **kw)\n",
    "        self.transform = transform\n",
    "        self.out_triplets = load_random_triplets\n",
    "        self.train = train\n",
    "        self.n_triplets = args.n_triplets\n",
    "        \n",
    "        \n",
    "        self.batch_size = batch_size\n",
    "        self.triplets = self.generate_triplets(self.labels, self.n_triplets)\n",
    "            \n",
    "    @staticmethod\n",
    "    def generate_triplets(labels, num_triplets):\n",
    "        def create_indices(_labels):\n",
    "            inds = dict()\n",
    "            for idx, ind in enumerate(_labels):\n",
    "                if ind not in inds:\n",
    "                    inds[ind] = []\n",
    "                inds[ind].append(idx)\n",
    "            return inds\n",
    "\n",
    "        triplets = []\n",
    "        indices = create_indices(labels.numpy())\n",
    "        unique_labels = np.unique(labels.numpy())\n",
    "        n_classes = unique_labels.shape[0]\n",
    "        # add only unique indices in batch\n",
    "        already_idxs = set()\n",
    "\n",
    "        for x in tqdm(range(num_triplets)):\n",
    "            if len(already_idxs) >= args.batch_size:\n",
    "                already_idxs = set()\n",
    "            c1 = np.random.randint(0, n_classes)\n",
    "            while c1 in already_idxs:\n",
    "                c1 = np.random.randint(0, n_classes)\n",
    "            already_idxs.add(c1)\n",
    "            c2 = np.random.randint(0, n_classes)\n",
    "            while c1 == c2:\n",
    "                c2 = np.random.randint(0, n_classes)\n",
    "            if len(indices[c1]) == 2:  # hack to speed up process\n",
    "                n1, n2 = 0, 1\n",
    "            else:\n",
    "                n1 = np.random.randint(0, len(indices[c1]))\n",
    "                n2 = np.random.randint(0, len(indices[c1]))\n",
    "                while n1 == n2:\n",
    "                    n2 = np.random.randint(0, len(indices[c1]))\n",
    "            n3 = np.random.randint(0, len(indices[c2]))\n",
    "            triplets.append([indices[c1][n1], indices[c1][n2], indices[c2][n3]])\n",
    "        return torch.LongTensor(np.array(triplets))\n",
    "\n",
    "    def __getitem__(self, index):\n",
    "        def transform_img(img):\n",
    "            if self.transform is not None:\n",
    "                img = self.transform(img.numpy())\n",
    "            return img\n",
    "\n",
    "        t = self.triplets[index]\n",
    "        a, p, n = self.data[t[0]], self.data[t[1]], self.data[t[2]]\n",
    "\n",
    "        img_a = transform_img(a)\n",
    "        img_p = transform_img(p)\n",
    "        img_n = None\n",
    "        if self.out_triplets:\n",
    "            img_n = transform_img(n)\n",
    "        # transform images if required\n",
    "        if args.fliprot:\n",
    "            do_flip = random.random() > 0.5\n",
    "            do_rot = random.random() > 0.5\n",
    "            if do_rot:\n",
    "                img_a = img_a.permute(0,2,1)\n",
    "                img_p = img_p.permute(0,2,1)\n",
    "                if self.out_triplets:\n",
    "                    img_n = img_n.permute(0,2,1)\n",
    "            if do_flip:\n",
    "                img_a = torch.from_numpy(deepcopy(img_a.numpy()[:,:,::-1]))\n",
    "                img_p = torch.from_numpy(deepcopy(img_p.numpy()[:,:,::-1]))\n",
    "                if self.out_triplets:\n",
    "                    img_n = torch.from_numpy(deepcopy(img_n.numpy()[:,:,::-1]))\n",
    "        return (img_a, img_p, img_n)\n",
    "        \n",
    "\n",
    "    def __len__(self):\n",
    "        return self.triplets.size(0)\n",
    "        "
   ]
  },
  {
   "cell_type": "markdown",
   "metadata": {},
   "source": [
    "<a id='pytorch_dataloader_cell'></a>\n",
    "### Define the dataloader\n",
    "[BackToSection](#load_data_cell)"
   ]
  },
  {
   "cell_type": "code",
   "execution_count": 4,
   "metadata": {},
   "outputs": [],
   "source": [
    "def create_loaders(dataset_names, load_random_triplets = False, verbose=False):\n",
    "    \"\"\"\n",
    "    For training, we use dataset 'liberty';\n",
    "    For testing, we use dataset 'notredame' and 'yosemite'\n",
    "    \n",
    "    \"\"\"\n",
    "    test_dataset_names = copy(dataset_names)\n",
    "    test_dataset_names.remove(args.training_set)\n",
    "\n",
    "    kwargs = {'num_workers': args.num_workers, 'pin_memory': args.pin_memory} if args.cuda else {}\n",
    "\n",
    "    np_reshape64 = lambda x: np.reshape(x, (64, 64, 1))\n",
    "    transform_test = transforms.Compose([\n",
    "            transforms.Lambda(np_reshape64),\n",
    "            transforms.ToPILImage(),\n",
    "            transforms.Resize(32),\n",
    "            transforms.ToTensor()])\n",
    "    transform_train = transforms.Compose([\n",
    "            transforms.Lambda(np_reshape64),\n",
    "            transforms.ToPILImage(),\n",
    "            transforms.RandomRotation(5,PIL.Image.BILINEAR),\n",
    "            transforms.RandomResizedCrop(32, scale = (0.9,1.0),ratio = (0.9,1.1)),\n",
    "            transforms.Resize(32),\n",
    "            transforms.ToTensor()])\n",
    "    transform = transforms.Compose([\n",
    "            transforms.Lambda(cv2_scale),\n",
    "            transforms.Lambda(np_reshape),\n",
    "            transforms.ToTensor(),\n",
    "            transforms.Normalize((args.mean_image,), (args.std_image,))])\n",
    "    if not args.augmentation:\n",
    "        transform_train = transform\n",
    "        transform_test = transform\n",
    "    train_loader = torch.utils.data.DataLoader(\n",
    "            TripletPhotoTour(train=True,\n",
    "                             load_random_triplets = load_random_triplets,\n",
    "                             batch_size=args.batch_size,\n",
    "                             root=args.dataroot,\n",
    "                             name=args.training_set,\n",
    "                             download=True,\n",
    "                             transform=transform_train),\n",
    "                             batch_size=args.batch_size,\n",
    "                             shuffle=False, **kwargs)\n",
    "\n",
    "    test_loaders = [{'name': name,\n",
    "                     'dataloader': torch.utils.data.DataLoader(\n",
    "             TripletPhotoTour(train=False,\n",
    "                     batch_size=args.test_batch_size,\n",
    "                     load_random_triplets = load_random_triplets,\n",
    "                     root=args.dataroot,\n",
    "                     name=name,\n",
    "                     download=True,\n",
    "                     transform=transform_test),\n",
    "                        batch_size=args.test_batch_size,\n",
    "                        shuffle=False, **kwargs)}\n",
    "                    for name in test_dataset_names]\n",
    "\n",
    "    return train_loader, test_loaders[0]"
   ]
  },
  {
   "cell_type": "markdown",
   "metadata": {
    "tags": []
   },
   "source": [
    "<a id='load_dataset_cell'></a>\n",
    "\n",
    "### Load Data\n",
    "\n",
    "Load the Photo Tourism dataset by PyTorch. Below line (function 'create_loader') will help you to download the dataset to your directory. The data dir and other configuration setings are specified in config_profile.py.\n",
    "\n",
    "[BackToSection](#load_data_cell)"
   ]
  },
  {
   "cell_type": "code",
   "execution_count": 5,
   "metadata": {},
   "outputs": [
    {
     "name": "stdout",
     "output_type": "stream",
     "text": [
      "# Found cached data data/sets/liberty.pt\n"
     ]
    },
    {
     "name": "stderr",
     "output_type": "stream",
     "text": [
      "100%|██████████| 100000/100000 [00:01<00:00, 62052.54it/s]\n"
     ]
    },
    {
     "name": "stdout",
     "output_type": "stream",
     "text": [
      "# Found cached data data/sets/notredame.pt\n"
     ]
    },
    {
     "name": "stderr",
     "output_type": "stream",
     "text": [
      "100%|██████████| 100000/100000 [00:01<00:00, 60675.53it/s]\n"
     ]
    }
   ],
   "source": [
    "dataset_names = ['liberty', 'notredame']\n",
    "\n",
    "args.n_triplets = 100000    # for illustration, here we only use 5000 triples; in your experiment, set it as 100000\n",
    "args.epochs = 60             # in your experiment, set it as 60; For CNN1, it will take ~ 1hr20mins if n_triplets = 100000\n",
    "\n",
    "train_loader, validation_loader = create_loaders(dataset_names, load_random_triplets = args.load_random_triplets)\n"
   ]
  },
  {
   "cell_type": "markdown",
   "metadata": {},
   "source": [
    "---\n",
    "<a id='visualize_dataset_cell'></a>\n",
    "##  Visualizaiton of the Training and Testing Data\n",
    "Below are some examples of patches in this dataset.\n",
    "\n",
    "[BackToSection](#load_data_cell)\n",
    "\n",
    "#### Data in Training\n",
    "In the training phase, the input data is a batch of patch pairs: X = {(patch_a, patch_p)}, which represents the anchor patch and the positive patch, respectively. \n",
    "\n",
    "---"
   ]
  },
  {
   "cell_type": "code",
   "execution_count": 6,
   "metadata": {},
   "outputs": [
    {
     "name": "stdout",
     "output_type": "stream",
     "text": [
      "In training and validation, each data entry generates 3 elements: anchor, positive, and negative.\n",
      "Each of them have the size of: torch.Size([32, 1, 32, 32])\n",
      "Below we show in each column one triplet: top row shows patch a; mid row shows patch p; and bot row shows patch n.\n"
     ]
    },
    {
     "data": {
      "image/png": "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\n",
      "text/plain": [
       "<Figure size 864x576 with 9 Axes>"
      ]
     },
     "metadata": {
      "needs_background": "light"
     },
     "output_type": "display_data"
    }
   ],
   "source": [
    "def plot_examples(sample_batched, n_samples=3, labels=['A', 'P', 'N']):\n",
    "    \n",
    "    cols = ['Sample {}'.format(col) for col in range(0, n_samples)]\n",
    "    rows = ['Patch {}'.format(row) for row in labels]\n",
    "    nrow = len(rows)\n",
    "    \n",
    "    fig, axes = plt.subplots(nrows=len(rows), ncols=n_samples, figsize=(12, 8))\n",
    "    for ax, col in zip(axes[0], cols):\n",
    "        ax.set_title(col)\n",
    "\n",
    "    for ax, row in zip(axes[:,0], rows):\n",
    "        ax.set_ylabel(row, rotation=90, size='large')\n",
    "\n",
    "#     for idx, img_tensor in enumerate(sample_batched):\n",
    "    for idx in range(nrow):\n",
    "        img_tensor = sample_batched[idx]\n",
    "        for jdx in range(n_samples):\n",
    "            img = img_tensor[jdx, 0]\n",
    "            axes[idx][jdx].imshow(img, cmap='gray')\n",
    "\n",
    "    fig.tight_layout()\n",
    "    plt.show()\n",
    "\n",
    "for i_batch, sample_batched in enumerate(train_loader):\n",
    "    print(\"In training and validation, each data entry generates {} elements: anchor, positive, and negative.\".format(len(sample_batched)))\n",
    "    print(\"Each of them have the size of: {}\".format(sample_batched[0].shape))\n",
    "    print(\"Below we show in each column one triplet: top row shows patch a; mid row shows patch p; and bot row shows patch n.\")\n",
    "          \n",
    "    if i_batch == 0:\n",
    "        plot_examples(sample_batched, 3)\n",
    "        break\n",
    "\n"
   ]
  },
  {
   "cell_type": "markdown",
   "metadata": {},
   "source": [
    "---\n",
    "---\n",
    "<a id='build_network_cell'></a>\n",
    "## Build an exmaple deep network  \n",
    "\n",
    "In this section, we will:\n",
    "#### 1. [Build the deep network: DesNet](#build_desNet_cell)\n",
    "#### 2. [Setup optimization](#set_opt_cell)\n",
    "\n",
    "[BackToTop](#top_cell)\n",
    "\n",
    "---"
   ]
  },
  {
   "cell_type": "markdown",
   "metadata": {},
   "source": [
    "<a id='build_desNet_cell'></a>\n",
    "### Build the deep network: DesNet\n",
    "The DesNet is a simple CNN network, which only contains two CNN blocks.\n",
    "\n",
    "\n",
    "[BackToSection](#build_network_cell)"
   ]
  },
  {
   "cell_type": "code",
   "execution_count": 3,
   "metadata": {},
   "outputs": [
    {
     "name": "stdout",
     "output_type": "stream",
     "text": [
      "DesNet(\n",
      "  (features): Sequential(\n",
      "    (0): Conv2d(1, 32, kernel_size=(3, 3), stride=(2, 2), padding=(1, 1), bias=False)\n",
      "    (1): BatchNorm2d(32, eps=1e-05, momentum=0.1, affine=False, track_running_stats=True)\n",
      "    (2): ReLU()\n",
      "    (3): Conv2d(32, 128, kernel_size=(3, 3), stride=(2, 2), padding=(1, 1), bias=False)\n",
      "    (4): BatchNorm2d(128, eps=1e-05, momentum=0.1, affine=False, track_running_stats=True)\n",
      "    (5): ReLU()\n",
      "    (6): Dropout(p=0.3, inplace=False)\n",
      "    (7): Conv2d(128, 128, kernel_size=(8, 8), stride=(1, 1), bias=False)\n",
      "    (8): BatchNorm2d(128, eps=1e-05, momentum=0.1, affine=False, track_running_stats=True)\n",
      "  )\n",
      ")\n"
     ]
    }
   ],
   "source": [
    "# load network from the python file. You need to submit these .py files to TA\n",
    "from CNN1 import DesNet       # uncomment this line if you are using DesNet from CNN1.py\n",
    "#from CNN2 import DesNet      # uncomment this line if you are using DesNet from CNN2.py\n",
    "#from CNN3 import DesNet      # uncomment this line if you are using DesNet from CNN3.py\n",
    "\n",
    "model = DesNet()\n",
    "# check model architecture\n",
    "\n",
    "print(model)\n",
    "\n",
    "if args.cuda:\n",
    "    model.cuda()"
   ]
  },
  {
   "cell_type": "markdown",
   "metadata": {},
   "source": [
    "<a id='set_opt_cell'></a>\n",
    "### Define optimization\n",
    "We will use SGD, but you can change it to ADAM by modifying arg.lr in config_profile.py\n",
    "\n",
    "[BackToSection](#build_network_cell)"
   ]
  },
  {
   "cell_type": "code",
   "execution_count": 6,
   "metadata": {},
   "outputs": [],
   "source": [
    "# define optimizer\n",
    "def create_optimizer(model, new_lr):\n",
    "    # setup optimizer\n",
    "    if args.optimizer == 'sgd':\n",
    "        optimizer = optim.SGD(model.parameters(), lr=new_lr,\n",
    "                              momentum=0.9, dampening=0.9,\n",
    "                              weight_decay=args.wd)\n",
    "    else:\n",
    "        raise Exception('Not supported optimizer: {0}'.format(args.optimizer))\n",
    "    return optimizer\n",
    "optimizer1 = create_optimizer(model.features, args.lr)"
   ]
  },
  {
   "cell_type": "markdown",
   "metadata": {},
   "source": [
    "---\n",
    "---\n",
    "<a id='train_network_cell'></a>\n",
    "## train the deep network  \n",
    "In this section, we will:\n",
    "#### 1. [Define a training module](#define_train_module_cell)\n",
    "#### 2. [Define a testing module](#define_test_module_cell)\n",
    "#### 3. [Train and test on the validation data](#training_module_cell)\n",
    "\n",
    "[BackToTop](#top_cell)\n",
    "\n",
    "---"
   ]
  },
  {
   "cell_type": "markdown",
   "metadata": {},
   "source": [
    "<a id='define_train_module_cell'></a>\n",
    "### Define a training module\n",
    "\n",
    "[BackToSection](#train_network_cell)"
   ]
  },
  {
   "cell_type": "code",
   "execution_count": 8,
   "metadata": {},
   "outputs": [],
   "source": [
    "train_loss_list = []\n",
    "\n",
    "\n",
    "def train(train_loader, model, optimizer, epoch, logger, load_triplets  = False):\n",
    "    # switch to train mode\n",
    "    model.train()\n",
    "    pbar = tqdm(enumerate(train_loader))\n",
    "    avg_loss = 0\n",
    "    for batch_idx, data in pbar:\n",
    "        data_a, data_p, data_n = data\n",
    "        \n",
    "\n",
    "        if args.cuda:\n",
    "            data_a, data_p, data_n  = data_a.cuda(), data_p.cuda(), data_n.cuda()\n",
    "            out_a = model(data_a)\n",
    "            out_p = model(data_p)\n",
    "            out_n = model(data_n)\n",
    "        \n",
    "        loss = loss_DesNet(out_a, out_p, out_n, anchor_swap = False, margin = 1.0, loss_type = \"triplet_margin\")\n",
    "                \n",
    "        if args.decor:\n",
    "            loss += CorrelationPenaltyLoss()(out_a)\n",
    "            \n",
    "        if args.gor:\n",
    "            loss += args.alpha*global_orthogonal_regularization(out_a, out_n)\n",
    "            \n",
    "        optimizer.zero_grad()\n",
    "        loss.backward()\n",
    "        optimizer.step()\n",
    "        adjust_learning_rate(optimizer)\n",
    "        if batch_idx % args.log_interval == 0:           \n",
    "            pbar.set_description(\n",
    "                'Train Epoch: {} [{}/{} ({:.0f}%)]\\tLoss: {:.6f}'.format(\n",
    "                    epoch, batch_idx * len(data_a), len(train_loader.dataset),\n",
    "                           100. * batch_idx / len(train_loader),\n",
    "                    loss.item()))\n",
    "        avg_loss = avg_loss + loss.item()\n",
    "    avg_loss = avg_loss/len(train_loader)\n",
    "    train_loss_list.append(avg_loss)\n",
    "    ##train_loss_list.append(loss.item())\n",
    "    \n",
    "        \n",
    "    if (args.enable_logging):\n",
    "        logger.log_value('loss', loss.item()).step()\n",
    "\n",
    "    try:\n",
    "        os.stat('{}{}'.format(args.model_dir,suffix))\n",
    "    except:\n",
    "        os.makedirs('{}{}'.format(args.model_dir,suffix))\n",
    "        \n",
    "    print(train_loss_list)\n",
    "\n",
    "    torch.save({'epoch': epoch + 1, 'state_dict': model.state_dict()},\n",
    "               '{}{}/checkpoint_{}.pth'.format(args.model_dir,suffix,epoch))\n",
    "    \n",
    "    \n",
    "def adjust_learning_rate(optimizer):\n",
    "    \"\"\"Updates the learning rate given the learning rate decay.\n",
    "    The routine has been implemented according to the original Lua SGD optimizer\n",
    "    \"\"\"\n",
    "    for group in optimizer.param_groups:\n",
    "        if 'step' not in group:\n",
    "            group['step'] = 0.\n",
    "        else:\n",
    "            group['step'] += 1.\n",
    "        group['lr'] = args.lr * (\n",
    "        1.0 - float(group['step']) * float(args.batch_size) / (args.n_triplets * float(args.epochs)))\n",
    "    return"
   ]
  },
  {
   "cell_type": "markdown",
   "metadata": {},
   "source": [
    "<a id='define_test_module_cell'></a>\n",
    "### Define a testing module\n",
    "[BackToSection](#train_network_cell)"
   ]
  },
  {
   "cell_type": "code",
   "execution_count": 9,
   "metadata": {},
   "outputs": [],
   "source": [
    "ave_loss_list = []\n",
    "\n",
    "\n",
    "def test(test_loader, model, epoch, logger, logger_test_name):\n",
    "    # switch to evaluate mode\n",
    "    model.eval()\n",
    "\n",
    "    losses = 0\n",
    "\n",
    "    pbar = tqdm(enumerate(test_loader))\n",
    "    \n",
    "    for batch_idx, data in pbar:\n",
    "        data_a, data_p, data_n = data\n",
    "        \n",
    "\n",
    "        if args.cuda:\n",
    "            data_a, data_p, data_n  = data_a.cuda(), data_p.cuda(), data_n.cuda()\n",
    "            out_a = model(data_a)\n",
    "            out_p = model(data_p)\n",
    "            out_n = model(data_n)\n",
    "        \n",
    "        loss = loss_DesNet(out_a, out_p, out_n, anchor_swap = False, margin = 1.0, loss_type = \"triplet_margin\")\n",
    "        losses = losses + loss.cpu().numpy()\n",
    "    ave_loss = losses/len(test_loader)\n",
    "    \n",
    "    ave_loss_list.append(ave_loss)\n",
    "    \n",
    "    print('\\33[91mLoss on validation: {:.8f}\\n\\33[0m'.format(ave_loss))\n",
    "\n",
    "    if (args.enable_logging):\n",
    "        logger.log_value(logger_test_name+' vloss', ave_loss)\n",
    "    return\n",
    "\n",
    "\n",
    "def ErrorRateAt95Recall(labels, scores):\n",
    "    distances = 1.0 / (scores + 1e-8)\n",
    "    recall_point = 0.95\n",
    "    labels = labels[np.argsort(distances)]\n",
    "    # Sliding threshold: get first index where recall >= recall_point. \n",
    "    # This is the index where the number of elements with label==1 below the threshold reaches a fraction of \n",
    "    # 'recall_point' of the total number of elements with label==1. \n",
    "    # (np.argmax returns the first occurrence of a '1' in a bool array). \n",
    "    threshold_index = np.argmax(np.cumsum(labels) >= recall_point * np.sum(labels)) \n",
    "\n",
    "    FP = np.sum(labels[:threshold_index] == 0) # Below threshold (i.e., labelled positive), but should be negative\n",
    "    TN = np.sum(labels[threshold_index:] == 0) # Above threshold (i.e., labelled negative), and should be negative\n",
    "    return float(FP) / float(FP + TN)"
   ]
  },
  {
   "cell_type": "markdown",
   "metadata": {},
   "source": [
    "<a id='training_module_cell'></a>\n",
    "### Training \n",
    "\n",
    "[BackToSection](#train_network_cell)"
   ]
  },
  {
   "cell_type": "code",
   "execution_count": 10,
   "metadata": {},
   "outputs": [],
   "source": [
    "start = args.start_epoch\n",
    "end = start + args.epochs\n",
    "logger, file_logger = None, None\n",
    "triplet_flag = args.load_random_triplets\n",
    "from Losses import loss_DesNet\n",
    "TEST_ON_W1BS = True\n",
    "LOG_DIR = args.log_dir\n",
    "if(args.enable_logging):\n",
    "    from Loggers import Logger, FileLogger\n",
    "    logger = Logger(LOG_DIR)\n",
    "    \n",
    "suffix = '{}_{}_{}_as_fliprot'.format(args.experiment_name, args.training_set, args.batch_reduce)\n",
    "\n",
    "res_fpr_liberty = torch.zeros(end-start,1)\n",
    "res_fpr_notredame = torch.zeros(end-start, 1)\n",
    "res_fpr_yosemite = torch.zeros(end-start, 1)\n",
    "\n",
    "for epoch in range(start, end):\n",
    "\n",
    "    # iterate over test loaders and test results\n",
    "    train(train_loader, model, optimizer1, epoch, logger, triplet_flag)\n",
    "    with torch.no_grad():\n",
    "        test(validation_loader['dataloader'], model, epoch, logger, validation_loader['name'])\n",
    "\n",
    "    #randomize train loader batches\n",
    "    train_loader, _ = create_loaders(dataset_names, load_random_triplets=triplet_flag)"
   ]
  },
  {
   "cell_type": "code",
   "execution_count": 14,
   "metadata": {
    "scrolled": true
   },
   "outputs": [],
   "source": [
    "train_loss_list =[0.4876628841106051, 0.41466448649106236, 0.3884219321984171, 0.3735658645687085, 0.3673472140873386, 0.363112474938882, 0.355091259665239, 0.35015684705625644, 0.34258084583572296, 0.34066095213171615, 0.33604473374207205, 0.333138815491381, 0.3319261269602193, 0.33088006085870514, 0.32741740767344096, 0.32732441108995575, 0.32390776193645315, 0.32470725257466865, 0.32324187903738294, 0.322444390684309, 0.32062237676869426, 0.31978140358580126, 0.3198090246756414, 0.31774578570023, 0.31914552291158066, 0.31575845974191824, 0.3170272701742248, 0.31470148344491433, 0.316086123568159, 0.3138037443218213, 0.312738341117851, 0.31089583823906636, 0.31469772401446344, 0.3108225730810879, 0.31206683901282206, 0.3106493786482649, 0.3096464897815188, 0.3079494399400529, 0.3076720679427902, 0.307470538489573, 0.30648195159145447, 0.3076666771259662, 0.3062760149315238, 0.3079314919633127, 0.3044033355519929, 0.3048265394841107, 0.3050037755732802, 0.30570210670898607, 0.304184807515724, 0.3035952599000565, 0.3036229606820312, 0.3027525487441095, 0.3032315324894221, 0.30212622847567744, 0.30114312162020995, 0.30065300017690627, 0.30060855600975755, 0.2999193241542071, 0.3007755808279595, 0.30095576988300754]\n",
    "ave_loss_list = [0.3799074790915664, 0.34261269745778067, 0.3257741520599443, 0.3163564606588714, 0.3099277883159871, 0.3218999593233576, 0.3172618828865947, 0.3045901856860336, 0.303471212788504, 0.30090559927784666, 0.2961921892604049, 0.30450802189963205, 0.29910234742018643, 0.29885150279317585, 0.29986961155521624, 0.29552334425400717, 0.29708387839550876, 0.29440255006965327, 0.2951247616081822, 0.29049577427153683, 0.2969854820747765, 0.29042306359933345, 0.2923132336261321, 0.2970626524516514, 0.29218549691900914, 0.29615065364205106, 0.29350558531527615, 0.28775220257895334, 0.28856572174296086, 0.2892368073974337, 0.28453908708630776, 0.28906211439444096, 0.2885858805812135, 0.292814883042355, 0.2914620616606304, 0.28647393778878816, 0.2915427678701829, 0.287821743561297, 0.2909883601324899, 0.29186336939432184, 0.2962798871556107, 0.2848141981022699, 0.2879992288594343, 0.2884364645091855, 0.2872581104842984, 0.2913247356001212, 0.2859109731353059, 0.2889101116024718, 0.290613769268503, 0.2905882752063323, 0.2927591636472819, 0.2928780262567559, 0.28708765397266467, 0.2963150064555966, 0.2835129843074448, 0.2908373316939996, 0.29369321526313313, 0.29021495519852153, 0.29706370587251624, 0.28571296620125675]\n",
    "\n",
    "x_epoch = []\n",
    "for i in range(60):\n",
    "    x_epoch.append(i)\n",
    "\n",
    "def draw_curve():\n",
    "    ax0.plot(x_epoch, train_loss_list, 'bo-', label='training')\n",
    "    ax1.plot(x_epoch, ave_loss_list, 'bo-', label='validation')\n",
    "    plt.savefig('SIFT training loss and validation loss.jpg')\n",
    "    \n",
    "    #if current_epoch == 0:\n",
    "    #    ax0.legend()\n",
    "    #    ax1.legend()\n",
    "    #fig.savefig(os.path.join('./lossGraphs', 'train.jpg'))"
   ]
  },
  {
   "cell_type": "code",
   "execution_count": 15,
   "metadata": {},
   "outputs": [
    {
     "name": "stdout",
     "output_type": "stream",
     "text": [
      "58\n",
      "0.29706370587251624\n"
     ]
    }
   ],
   "source": [
    "min_value = 1\n",
    "for i in range(60):\n",
    "    if (abs(train_loss_list[i] - ave_loss_list[i]) < min_value):\n",
    "        min_value = abs(train_loss_list[i] - ave_loss_list[i])\n",
    "        current_idx = i\n",
    "\n",
    "print(current_idx)\n",
    "print(ave_loss_list[current_idx])"
   ]
  },
  {
   "cell_type": "code",
   "execution_count": 16,
   "metadata": {},
   "outputs": [
    {
     "data": {
      "image/png": "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\n",
      "text/plain": [
       "<Figure size 432x288 with 2 Axes>"
      ]
     },
     "metadata": {
      "needs_background": "light"
     },
     "output_type": "display_data"
    }
   ],
   "source": [
    "\n",
    "\n",
    "fig = plt.figure()\n",
    "ax0 = fig.add_subplot(121, title=\"training loss\")\n",
    "ax1 = fig.add_subplot(122, title=\"validation loss\")\n",
    "\n",
    "for i in range(60):\n",
    "    draw_curve()\n",
   ]
  },
  {
   "cell_type": "markdown",
   "metadata": {},
   "source": [
    "---\n",
    "---\n",
    "<a id='generate_deep_features_cell'></a>\n",
    "## Generate deep features\n",
    "In this section, we will use your trained network to generate deep features for each patch:\n",
    "#### 1. [load weights](#load_weights_module_cell)\n",
    "#### 2. [load patches](#load_raw_patch_files_module_cell)\n",
    "#### 3. [get deep features](#get_deep_features_module_cell)\n",
    "\n",
    "\n",
    "\n",
    "[BackToTop](#top_cell)"
   ]
  },
  {
   "cell_type": "markdown",
   "metadata": {},
   "source": [
    "<a id='load_weights_module_cell'></a>\n",
    "### Load network weights\n",
    "[BackToSection](#generate_deep_features_cell)"
   ]
  },
  {
   "cell_type": "code",
   "execution_count": 4,
   "metadata": {},
   "outputs": [
    {
     "data": {
      "text/plain": [
       "DesNet(\n",
       "  (features): Sequential(\n",
       "    (0): Conv2d(1, 32, kernel_size=(3, 3), stride=(2, 2), padding=(1, 1), bias=False)\n",
       "    (1): BatchNorm2d(32, eps=1e-05, momentum=0.1, affine=False, track_running_stats=True)\n",
       "    (2): ReLU()\n",
       "    (3): Conv2d(32, 128, kernel_size=(3, 3), stride=(2, 2), padding=(1, 1), bias=False)\n",
       "    (4): BatchNorm2d(128, eps=1e-05, momentum=0.1, affine=False, track_running_stats=True)\n",
       "    (5): ReLU()\n",
       "    (6): Dropout(p=0.3, inplace=False)\n",
       "    (7): Conv2d(128, 128, kernel_size=(8, 8), stride=(1, 1), bias=False)\n",
       "    (8): BatchNorm2d(128, eps=1e-05, momentum=0.1, affine=False, track_running_stats=True)\n",
       "  )\n",
       ")"
      ]
     },
     "execution_count": 4,
     "metadata": {},
     "output_type": "execute_result"
    }
   ],
   "source": [
    "trained_weight_path = \"models/liberty_train/_liberty_min_as_fliprot/CNN1.pth\" # suppose you select  checkpoint_4.pth as the best model for this architecture\n",
    "test_model = DesNet()\n",
    "if args.cuda:\n",
    "    test_model.cuda()\n",
    "trained_weight = torch.load(trained_weight_path)['state_dict']\n",
    "test_model.load_state_dict(trained_weight)\n",
    "test_model.eval()"
   ]
  },
  {
   "cell_type": "markdown",
   "metadata": {},
   "source": [
    "<a id='load_raw_patch_files_module_cell'></a>\n",
    "### Load raw patch files\n",
    "Assume that the raw patch file is stored as patches.pth\n",
    "\n",
    "[BackToSection](#generate_deep_features_cell)"
   ]
  },
  {
   "cell_type": "code",
   "execution_count": 5,
   "metadata": {},
   "outputs": [
    {
     "name": "stdout",
     "output_type": "stream",
     "text": [
      "torch.Size([10, 200, 1, 32, 32])\n",
      "torch.Size([2000, 1, 32, 32])\n"
     ]
    }
   ],
   "source": [
    "patches_dir = \"SIFT_patches.pth\"            # these patches are from keypoint detection results\n",
    "patches = torch.load(patches_dir)\n",
    "\n",
    "print(patches.shape)                  # in your case, the shape should be [10, 200, 1, 32, 32]\n",
    "num_imgs, num_pts, _, _, _ = patches.shape\n",
    "patches = patches.view(-1, 1, 32, 32).cuda()\n",
    "\n",
    "print(patches.shape)\n",
    "\n",
    "\n",
    "\n",
    "\n"
   ]
  },
  {
   "cell_type": "markdown",
   "metadata": {},
   "source": [
    "<a id='get_deep_features_module_cell'></a>\n",
    "### Get deep features\n",
    "[BackToSection](#generate_deep_features_cell)"
   ]
  },
  {
   "cell_type": "code",
   "execution_count": 6,
   "metadata": {},
   "outputs": [
    {
     "name": "stdout",
     "output_type": "stream",
     "text": [
      "torch.Size([2000, 128])\n",
      "torch.Size([10, 200, 128])\n",
      "tensor([[-0.0036, -0.0662, -0.0975,  ...,  0.0370,  0.1715,  0.0976],\n",
      "        [ 0.0379,  0.0263,  0.0495,  ..., -0.0241,  0.1773, -0.0734],\n",
      "        [ 0.0379,  0.0263,  0.0495,  ..., -0.0241,  0.1773, -0.0734],\n",
      "        ...,\n",
      "        [-0.0281,  0.1050, -0.0417,  ..., -0.2241,  0.0186,  0.0415],\n",
      "        [-0.1801,  0.0350, -0.0824,  ..., -0.0240,  0.0174,  0.1743],\n",
      "        [-0.0566, -0.0176,  0.0059,  ..., -0.2201,  0.0709,  0.1668]]) tensor([[ 0.0737,  0.1579, -0.0771,  ...,  0.0171, -0.0259, -0.0469],\n",
      "        [ 0.0147, -0.0407,  0.0399,  ..., -0.0938,  0.1182,  0.0624],\n",
      "        [ 0.0147, -0.0407,  0.0399,  ..., -0.0938,  0.1182,  0.0624],\n",
      "        ...,\n",
      "        [ 0.0674,  0.1528, -0.0166,  ..., -0.0619, -0.1102, -0.0704],\n",
      "        [-0.0658, -0.1411, -0.0444,  ..., -0.0448,  0.1571,  0.1657],\n",
      "        [-0.2093, -0.0602, -0.0294,  ..., -0.0183, -0.0296,  0.0099]])\n"
     ]
    }
   ],
   "source": [
    "features = test_model(patches)\n",
    "print(features.shape)\n",
    "features = features.view(num_imgs, num_pts, 128).cpu().data\n",
    "print(features.shape)                  # in your case, the shape should be [10, 200, 128]\n",
    "print(features[0],features[1])"
   ]
  },
  {
   "cell_type": "code",
   "execution_count": 7,
   "metadata": {},
   "outputs": [],
   "source": [
    "# save to file, with the name of *_features_CNN*.pth\n",
    "features_dir = \"SIFT_features_CNN1.pth\"\n",
    "torch.save(features, features_dir)"
   ]
  },
  {
   "cell_type": "code",
   "execution_count": null,
   "metadata": {},
   "outputs": [],
   "source": []
  }
 ],
 "metadata": {
  "kernelspec": {
   "display_name": "Python 3",
   "language": "python",
   "name": "python3"
  },
  "language_info": {
   "codemirror_mode": {
    "name": "ipython",
    "version": 3
   },
   "file_extension": ".py",
   "mimetype": "text/x-python",
   "name": "python",
   "nbconvert_exporter": "python",
   "pygments_lexer": "ipython3",
   "version": "3.6.13"
  }
 },
 "nbformat": 4,
 "nbformat_minor": 4
}
